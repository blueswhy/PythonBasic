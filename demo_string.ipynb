{
 "nbformat": 4,
 "nbformat_minor": 2,
 "metadata": {
  "language_info": {
   "name": "python",
   "codemirror_mode": {
    "name": "ipython",
    "version": 3
   },
   "version": "3.7.7-final"
  },
  "orig_nbformat": 2,
  "file_extension": ".py",
  "mimetype": "text/x-python",
  "name": "python",
  "npconvert_exporter": "python",
  "pygments_lexer": "ipython3",
  "version": 3,
  "kernelspec": {
   "name": "python37764bit0bbbe221bdc9440ba2a8cfdc317ed9c4",
   "display_name": "Python 3.7.7 64-bit"
  }
 },
 "cells": [
  {
   "cell_type": "code",
   "execution_count": 2,
   "metadata": {},
   "outputs": [
    {
     "output_type": "stream",
     "name": "stdout",
     "text": "p,y,t,h,o,n,\npython\n"
    }
   ],
   "source": [
    "# Jupyter Notebook\n",
    "# 1. 字符串和字符的区别同时理解指针\n",
    "for cPtr in \"python\":\n",
    "    print('%c'%cPtr,end=',')\n",
    "print()\n",
    "print(\"python\")"
   ]
  },
  {
   "cell_type": "code",
   "execution_count": 8,
   "metadata": {},
   "outputs": [
    {
     "output_type": "stream",
     "name": "stdout",
     "text": "CustomerNo: 1, CustomerName:Bob\nCustomerNo: 2, CustomerName:Caser\nCustomerNo: 3, CustomerName:Ema\n\n"
    }
   ],
   "source": [
    "# 2. 循环输出人名\n",
    "sCustomerName=[\"Bob\",\"Caser\",\"Ema\"]\n",
    "\n",
    "for sCNidx in range(0,len(sCustomerName)):\n",
    "    print('CustomerNo: %d,'%(sCNidx+1),'CustomerName:%s'%(sCustomerName[sCNidx]))\n",
    "print()"
   ]
  },
  {
   "cell_type": "code",
   "execution_count": 10,
   "metadata": {},
   "outputs": [
    {
     "output_type": "stream",
     "name": "stdout",
     "text": "I told you,\"Never mind,I will find someone like you\".\nI told you,'Never mind,I will find someone like you'.\nI told you,\"Never mind,I will find someone like you\".\nVisual Studio\nVISUAL STUDIO\nvisual studio\n    How beautiful the life is! \\\nHow beautiful the life is!      \\\nHow beautiful the life is! \\\n"
    }
   ],
   "source": [
    "# 3. 一些字符串函数\n",
    "print('I told you,\"Never mind,I will find someone like you\".')\n",
    "print(\"I told you,'Never mind,I will find someone like you'.\")\n",
    "print(\"I told you,\\\"Never mind,I will find someone like you\\\".\")\n",
    "\n",
    "sAppName='viSual STUDio'\n",
    "print(sAppName.title())       # 变成英文名格式\n",
    "print(sAppName.upper())       # 全部转换为大写字母\n",
    "print(sAppName.lower())       # 全部转换为小写字母\n",
    "\n",
    "sStr1='    How beautiful the life is!     '\n",
    "print(sStr1.rstrip(),'\\\\')    # 去除一句话结尾的全部空格\n",
    "print(sStr1.lstrip(),'\\\\')    # 去除一句话开头的全部空格\n",
    "print(sStr1.strip(),'\\\\')     # 去除一句话开头和结尾的全部空格"
   ]
  },
  {
   "cell_type": "code",
   "execution_count": 11,
   "metadata": {},
   "outputs": [
    {
     "output_type": "stream",
     "name": "stdout",
     "text": "s1+s2: 3003.1415926\nn1+n2: 303.1415926\n"
    }
   ],
   "source": [
    "# 4.字符串的拼接\n",
    "s1='300'\n",
    "s2='3.1415926'\n",
    "\n",
    "n1=int(s1)\n",
    "n2=float(s2)\n",
    "\n",
    "print(\"s1+s2:\",s1+s2)      #字符串的拼接\n",
    "print('n1+n2:',n1+n2)      #转换后数字的加减"
   ]
  },
  {
   "cell_type": "code",
   "execution_count": 2,
   "metadata": {},
   "outputs": [
    {
     "output_type": "stream",
     "name": "stdout",
     "text": "Never mind, I will find someone like you. I wish nothing but the best for you.\n"
    }
   ],
   "source": [
    "s3 ='Never mind, I will find someone like you. \\\n",
    "I wish nothing but the best for you.'              # 当一行太长的时候使用\\来换行  \n",
    "print(s3)"
   ]
  },
  {
   "cell_type": "code",
   "execution_count": null,
   "metadata": {},
   "outputs": [],
   "source": []
  }
 ]
}